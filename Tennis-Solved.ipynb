{
 "cells": [
  {
   "cell_type": "markdown",
   "metadata": {},
   "source": [
    "# Collaboration and Competition\n",
    "\n",
    "---\n",
    "\n",
    "In this notebook, you will learn how to use the Unity ML-Agents environment for the third project of the [Deep Reinforcement Learning Nanodegree](https://www.udacity.com/course/deep-reinforcement-learning-nanodegree--nd893) program.\n",
    "\n",
    "### 1. Start the Environment\n",
    "\n",
    "We begin by importing the necessary packages.  If the code cell below returns an error, please revisit the project instructions to double-check that you have installed [Unity ML-Agents](https://github.com/Unity-Technologies/ml-agents/blob/master/docs/Installation.md) and [NumPy](http://www.numpy.org/)."
   ]
  },
  {
   "cell_type": "code",
   "execution_count": 9,
   "metadata": {},
   "outputs": [],
   "source": [
    "from unityagents import UnityEnvironment\n",
    "import numpy as np"
   ]
  },
  {
   "cell_type": "markdown",
   "metadata": {},
   "source": [
    "Next, we will start the environment!  **_Before running the code cell below_**, change the `file_name` parameter to match the location of the Unity environment that you downloaded.\n",
    "\n",
    "- **Mac**: `\"path/to/Tennis.app\"`\n",
    "- **Windows** (x86): `\"path/to/Tennis_Windows_x86/Tennis.exe\"`\n",
    "- **Windows** (x86_64): `\"path/to/Tennis_Windows_x86_64/Tennis.exe\"`\n",
    "- **Linux** (x86): `\"path/to/Tennis_Linux/Tennis.x86\"`\n",
    "- **Linux** (x86_64): `\"path/to/Tennis_Linux/Tennis.x86_64\"`\n",
    "- **Linux** (x86, headless): `\"path/to/Tennis_Linux_NoVis/Tennis.x86\"`\n",
    "- **Linux** (x86_64, headless): `\"path/to/Tennis_Linux_NoVis/Tennis.x86_64\"`\n",
    "\n",
    "For instance, if you are using a Mac, then you downloaded `Tennis.app`.  If this file is in the same folder as the notebook, then the line below should appear as follows:\n",
    "```\n",
    "env = UnityEnvironment(file_name=\"Tennis.app\")\n",
    "```"
   ]
  },
  {
   "cell_type": "code",
   "execution_count": 10,
   "metadata": {},
   "outputs": [
    {
     "name": "stderr",
     "output_type": "stream",
     "text": [
      "INFO:unityagents:\n",
      "'Academy' started successfully!\n",
      "Unity Academy name: Academy\n",
      "        Number of Brains: 1\n",
      "        Number of External Brains : 1\n",
      "        Lesson number : 0\n",
      "        Reset Parameters :\n",
      "\t\t\n",
      "Unity brain name: TennisBrain\n",
      "        Number of Visual Observations (per agent): 0\n",
      "        Vector Observation space type: continuous\n",
      "        Vector Observation space size (per agent): 8\n",
      "        Number of stacked Vector Observation: 3\n",
      "        Vector Action space type: continuous\n",
      "        Vector Action space size (per agent): 2\n",
      "        Vector Action descriptions: , \n"
     ]
    }
   ],
   "source": [
    "env = UnityEnvironment(file_name=\"Tennis.app\")"
   ]
  },
  {
   "cell_type": "markdown",
   "metadata": {},
   "source": [
    "Environments contain **_brains_** which are responsible for deciding the actions of their associated agents. Here we check for the first brain available, and set it as the default brain we will be controlling from Python."
   ]
  },
  {
   "cell_type": "code",
   "execution_count": 11,
   "metadata": {},
   "outputs": [],
   "source": [
    "# get the default brain\n",
    "brain_name = env.brain_names[0]\n",
    "brain = env.brains[brain_name]"
   ]
  },
  {
   "cell_type": "markdown",
   "metadata": {},
   "source": [
    "### 2. Examine the State and Action Spaces\n",
    "\n",
    "In this environment, two agents control rackets to bounce a ball over a net. If an agent hits the ball over the net, it receives a reward of +0.1.  If an agent lets a ball hit the ground or hits the ball out of bounds, it receives a reward of -0.01.  Thus, the goal of each agent is to keep the ball in play.\n",
    "\n",
    "The observation space consists of 8 variables corresponding to the position and velocity of the ball and racket. Two continuous actions are available, corresponding to movement toward (or away from) the net, and jumping. \n",
    "\n",
    "Run the code cell below to print some information about the environment."
   ]
  },
  {
   "cell_type": "code",
   "execution_count": 12,
   "metadata": {},
   "outputs": [
    {
     "name": "stdout",
     "output_type": "stream",
     "text": [
      "Number of agents: 2\n",
      "Size of each action: 2\n",
      "There are 2 agents. Each observes a state with length: 24\n",
      "The state for the first agent looks like: [ 0.          0.          0.          0.          0.          0.\n",
      "  0.          0.          0.          0.          0.          0.\n",
      "  0.          0.          0.          0.         -6.65278625 -1.5\n",
      " -0.          0.          6.83172083  6.         -0.          0.        ]\n"
     ]
    }
   ],
   "source": [
    "# reset the environment\n",
    "env_info = env.reset(train_mode=True)[brain_name]\n",
    "\n",
    "# number of agents \n",
    "num_agents = len(env_info.agents)\n",
    "print('Number of agents:', num_agents)\n",
    "\n",
    "# size of each action\n",
    "action_size = brain.vector_action_space_size\n",
    "print('Size of each action:', action_size)\n",
    "\n",
    "# examine the state space \n",
    "states = env_info.vector_observations\n",
    "state_size = states.shape[1]\n",
    "print('There are {} agents. Each observes a state with length: {}'.format(states.shape[0], state_size))\n",
    "print('The state for the first agent looks like:', states[0])"
   ]
  },
  {
   "cell_type": "markdown",
   "metadata": {},
   "source": [
    "### 3. Take Random Actions in the Environment\n",
    "\n",
    "In the next code cell, you will learn how to use the Python API to control the agents and receive feedback from the environment.\n",
    "\n",
    "Once this cell is executed, you will watch the agents' performance, if they select actions at random with each time step.  A window should pop up that allows you to observe the agents.\n",
    "\n",
    "Of course, as part of the project, you'll have to change the code so that the agents are able to use their experiences to gradually choose better actions when interacting with the environment!"
   ]
  },
  {
   "cell_type": "code",
   "execution_count": null,
   "metadata": {},
   "outputs": [],
   "source": [
    "for i in range(1, 6):                                      # play game for 5 episodes\n",
    "    env_info = env.reset(train_mode=False)[brain_name]     # reset the environment    \n",
    "    states = env_info.vector_observations                  # get the current state (for each agent)\n",
    "    scores = np.zeros(num_agents)                          # initialize the score (for each agent)\n",
    "    while True:\n",
    "        actions = np.random.randn(num_agents, action_size) # select an action (for each agent)\n",
    "        actions = np.clip(actions, -1, 1)                  # all actions between -1 and 1\n",
    "        env_info = env.step(actions)[brain_name]           # send all actions to tne environment\n",
    "        next_states = env_info.vector_observations         # get next state (for each agent)\n",
    "        rewards = env_info.rewards                         # get reward (for each agent)\n",
    "        dones = env_info.local_done                        # see if episode finished\n",
    "        scores += env_info.rewards                         # update the score (for each agent)\n",
    "        states = next_states                               # roll over states to next time step\n",
    "        if np.any(dones):                                  # exit loop if episode finished\n",
    "            break\n",
    "    print('Score (max over agents) from episode {}: {}'.format(i, np.max(scores)))"
   ]
  },
  {
   "cell_type": "markdown",
   "metadata": {},
   "source": [
    "When finished, you can close the environment."
   ]
  },
  {
   "cell_type": "code",
   "execution_count": null,
   "metadata": {},
   "outputs": [],
   "source": [
    "env.close()"
   ]
  },
  {
   "cell_type": "markdown",
   "metadata": {},
   "source": [
    "### 4. It's Your Turn!\n",
    "\n",
    "Now it's your turn to train your own agent to solve the environment!  When training the environment, set `train_mode=True`, so that the line for resetting the environment looks like the following:\n",
    "```python\n",
    "env_info = env.reset(train_mode=True)[brain_name]\n",
    "```"
   ]
  },
  {
   "cell_type": "code",
   "execution_count": 5,
   "metadata": {},
   "outputs": [],
   "source": [
    "import torch\n",
    "import numpy as np\n",
    "from collections import deque\n",
    "import os\n",
    "import matplotlib.pyplot as plt\n",
    "%matplotlib inline\n",
    "\n",
    "from buffer import ReplayBuffer\n",
    "from maddpg import MADDPG, MADDPGAgentTrainer\n",
    "\n",
    "device = torch.device(\"cuda\" if torch.cuda.is_available() else \"cpu\")"
   ]
  },
  {
   "cell_type": "code",
   "execution_count": 6,
   "metadata": {},
   "outputs": [],
   "source": [
    "def seeding(seed=10):\n",
    "    np.random.seed(seed)\n",
    "    torch.manual_seed(seed)"
   ]
  },
  {
   "cell_type": "code",
   "execution_count": 7,
   "metadata": {},
   "outputs": [],
   "source": [
    "def tennis(number_of_episodes=5000, episode_length=1000, print_every=100):\n",
    "    \"\"\"Multi Agent Deep Deterministic Policy Gradient (MADDPG) algorithm to train two agents to play tennis in the Unity environment.\n",
    "    \n",
    "    Params\n",
    "    ======\n",
    "        number_of_episodes (int): maximum number of training episodes\n",
    "        episode_length (int): maximum number of timesteps per episode\n",
    "        print_every (int): maximum number of last scores to track\n",
    "    \n",
    "    \"\"\"\n",
    "    \n",
    "    update_every = 1                                            # how many episodes before update\n",
    "     \n",
    "    batch_size = 256                                            # minibatch size\n",
    "    buffer_size = 1e6                                           # size of replay buffer\n",
    "    gamma = 0.95                                                # discount factor\n",
    "    tau = 1e-2                                                  # soft update of target parameters\n",
    "    lr_actor = 1e-3                                             # actor learning rate\n",
    "    lr_critic = 1e-3                                            # critic learning rate\n",
    "    fc1 = 64                                                    # hidden layer 1\n",
    "    fc2 = 64                                                    # hidden layer 2\n",
    "    \n",
    "    env_info = env.reset(train_mode=True)[brain_name]           # reset the environment\n",
    "    num_agents = len(env_info.agents)                           # number of agents\n",
    "    \n",
    "    state = env_info.vector_observations\n",
    "    state_shape = state.shape[1]\n",
    "    action_size = brain.vector_action_space_size\n",
    "\n",
    "    # initialize agents\n",
    "    agent = MADDPGAgentTrainer(state_shape, fc1, fc2, action_size, num_agents, gamma, tau, lr_actor, lr_critic, buffer_size, batch_size, update_every, random_seed=48)\n",
    "    \n",
    "    # scores tracker\n",
    "    best_score = -np.inf\n",
    "    scores = []                                              # list containing scores from each episode\n",
    "    scores_window = deque(maxlen=print_every)                # last 100 scores\n",
    "    mean_scores = []                                         # list containing mean scores from the last 100 scores\n",
    "\n",
    "    # training loop\n",
    "    for episode in range(0, number_of_episodes):\n",
    "        env_info = env.reset(train_mode=True)[brain_name]\n",
    "        states = env_info.vector_observations\n",
    "        agent.reset()\n",
    "        \n",
    "        reward_this_episode = np.zeros(num_agents)                     # scores for 1 environment, 2 agents\n",
    "        \n",
    "        while(True):\n",
    "            actions = agent.act(states)\n",
    "            env_info = env.step(actions)[brain_name]           # send all actions to tne environment\n",
    "            next_states = env_info.vector_observations         # get next state (for each agent)\n",
    "            rewards = env_info.rewards                         # get reward (for each agent)            \n",
    "            dones = env_info.local_done                        # see if episode finished\n",
    "            reward_this_episode += env_info.rewards         # update the score (for each agent)\n",
    "            agent.step(states, actions, rewards, next_states, dones)\n",
    "            states = next_states                               # roll over states to next time step\n",
    "            \n",
    "            if np.any(dones):\n",
    "                break      # exit loop if episode finished\n",
    "        \n",
    "        # calculating final score for each episode\n",
    "        final_score_this_episode = np.max(reward_this_episode)\n",
    "        \n",
    "        # adding episode score to overall scores list\n",
    "        scores.append(final_score_this_episode)\n",
    "        scores_window.append(final_score_this_episode)\n",
    "        best_score = np.max(scores)\n",
    "        mean_scores.append(np.mean(scores_window))\n",
    "        \n",
    "        if episode % print_every == 0:\n",
    "            print('\\rEpisode {}\\tMax score: {:.3f} \\tAverage Score: {:.3f}'.format(episode, best_score, np.mean(scores_window)))\n",
    "        \n",
    "        # checking if environment is solved (i.e., average score over 100 episodes is > +0.5)\n",
    "        if np.mean(scores_window)>=0.5:\n",
    "            print('\\nEnvironment solved in {:d} episodes!\\tAverage Score: {:.3f}'.format(episode-100, np.mean(scores_window)))\n",
    "            # saving model and optimizer parameters for both agents\n",
    "            agent.checkpoint()\n",
    "            break\n",
    "   \n",
    "    return scores"
   ]
  },
  {
   "cell_type": "code",
   "execution_count": 8,
   "metadata": {},
   "outputs": [
    {
     "name": "stderr",
     "output_type": "stream",
     "text": [
      "/Users/taggarwal/anaconda3/envs/deep-rl/lib/python3.6/site-packages/torch/nn/functional.py:1558: UserWarning: nn.functional.tanh is deprecated. Use torch.tanh instead.\n",
      "  warnings.warn(\"nn.functional.tanh is deprecated. Use torch.tanh instead.\")\n"
     ]
    },
    {
     "name": "stdout",
     "output_type": "stream",
     "text": [
      "Episode 0\tMax score: 0.000 \tAverage Score: 0.000\n",
      "Episode 100\tMax score: 0.100 \tAverage Score: 0.003\n",
      "Episode 200\tMax score: 0.100 \tAverage Score: 0.007\n",
      "Episode 300\tMax score: 0.100 \tAverage Score: 0.014\n",
      "Episode 400\tMax score: 0.100 \tAverage Score: 0.041\n",
      "Episode 500\tMax score: 0.200 \tAverage Score: 0.059\n",
      "Episode 600\tMax score: 0.400 \tAverage Score: 0.099\n",
      "Episode 700\tMax score: 0.400 \tAverage Score: 0.119\n",
      "Episode 800\tMax score: 1.000 \tAverage Score: 0.150\n",
      "\n",
      "Environment solved in 762 episodes!\tAverage Score: 0.504\n"
     ]
    },
    {
     "data": {
      "image/png": "[encoded data removed]",
      "text/plain": [
       "<Figure size 432x288 with 1 Axes>"
      ]
     },
     "metadata": {
      "needs_background": "light"
     },
     "output_type": "display_data"
    }
   ],
   "source": [
    "scores = tennis()\n",
    "\n",
    "fig = plt.figure()\n",
    "ax = fig.add_subplot(111)\n",
    "plt.plot(np.arange(1, len(scores)+1), scores, 'r-')\n",
    "plt.ylabel('Score')\n",
    "plt.xlabel('Episode #')\n",
    "plt.show()\n"
   ]
  },
  {
   "cell_type": "code",
   "execution_count": null,
   "metadata": {},
   "outputs": [],
   "source": [
    "env.close()"
   ]
  },
  {
   "cell_type": "markdown",
   "metadata": {},
   "source": [
    "## Viewing the trained agents"
   ]
  },
  {
   "cell_type": "code",
   "execution_count": 13,
   "metadata": {},
   "outputs": [],
   "source": [
    "agent_0 = MADDPG(24, 64, 64, 2, 2, 0, 0.95, 1e-2, 1e-3, 1e-3, 48)\n",
    "agent_1 = MADDPG(24, 64, 64, 2, 2, 1, 0.95, 1e-2, 1e-3, 1e-3, 48)"
   ]
  },
  {
   "cell_type": "code",
   "execution_count": 14,
   "metadata": {},
   "outputs": [
    {
     "data": {
      "text/plain": [
       "<All keys matched successfully>"
      ]
     },
     "execution_count": 14,
     "metadata": {},
     "output_type": "execute_result"
    }
   ],
   "source": [
    "agent_0.local_actor.load_state_dict(torch.load('checkpoint_actor_0.pth'))\n",
    "agent_0.target_actor.load_state_dict(torch.load('checkpoint_actor_0.pth'))\n",
    "agent_0.local_critic.load_state_dict(torch.load('checkpoint_critic_0.pth'))\n",
    "agent_0.target_critic.load_state_dict(torch.load('checkpoint_critic_0.pth'))\n",
    "\n",
    "agent_1.local_actor.load_state_dict(torch.load('checkpoint_actor_1.pth'))\n",
    "agent_1.target_actor.load_state_dict(torch.load('checkpoint_actor_1.pth'))\n",
    "agent_1.local_critic.load_state_dict(torch.load('checkpoint_critic_1.pth'))\n",
    "agent_1.target_critic.load_state_dict(torch.load('checkpoint_critic_1.pth'))"
   ]
  },
  {
   "cell_type": "code",
   "execution_count": 15,
   "metadata": {},
   "outputs": [
    {
     "name": "stdout",
     "output_type": "stream",
     "text": [
      "[0.02 0.03]\n"
     ]
    }
   ],
   "source": [
    "rewards_overall = np.zeros(2)\n",
    "\n",
    "for episode in range(10):\n",
    "    env_info = env.reset(train_mode=False)[brain_name]     # reset the environment\n",
    "    states = env_info.vector_observations                  # get the current state\n",
    "    obs = [agent_obs for agent_obs in states]\n",
    "    score = 0                                              # initialize the score\n",
    "\n",
    "    for t in range(10):\n",
    "        agent_0_action = agent_0.act(obs[0], add_noise=False)\n",
    "        agent_1_action = agent_1.act(obs[1], add_noise=False)\n",
    "        \n",
    "        actions_array = np.stack([agent_0_action, agent_1_action])\n",
    "        \n",
    "        env_info = env.step(actions_array)[brain_name]  \n",
    "\n",
    "        next_states = env_info.vector_observations\n",
    "        next_obs = [agent_obs for agent_obs in next_states]\n",
    "\n",
    "        rewards = np.array(env_info.rewards)\n",
    "        dones = np.array(env_info.local_done)\n",
    "\n",
    "        obs = next_obs\n",
    "        \n",
    "        rewards_overall += rewards\n",
    "        \n",
    "        if np.any(dones):\n",
    "            break\n",
    "\n",
    "print(rewards_overall/(episode+1))"
   ]
  },
  {
   "cell_type": "code",
   "execution_count": 16,
   "metadata": {},
   "outputs": [],
   "source": [
    "env.close()"
   ]
  },
  {
   "cell_type": "code",
   "execution_count": null,
   "metadata": {},
   "outputs": [],
   "source": []
  }
 ],
 "metadata": {
  "kernelspec": {
   "display_name": "Python 3",
   "language": "python",
   "name": "python3"
  },
  "language_info": {
   "codemirror_mode": {
    "name": "ipython",
    "version": 3
   },
   "file_extension": ".py",
   "mimetype": "text/x-python",
   "name": "python",
   "nbconvert_exporter": "python",
   "pygments_lexer": "ipython3",
   "version": "3.6.10"
  }
 },
 "nbformat": 4,
 "nbformat_minor": 2
}
